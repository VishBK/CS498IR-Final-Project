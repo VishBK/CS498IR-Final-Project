{
 "cells": [
  {
   "cell_type": "code",
   "execution_count": 1,
   "metadata": {},
   "outputs": [
    {
     "data": {
      "text/plain": [
       "'IPython'"
      ]
     },
     "execution_count": 1,
     "metadata": {},
     "output_type": "execute_result"
    }
   ],
   "source": [
    "# use pip3 (klampt, PyOpenGL, numpy)\n",
    "# http://motion.cs.illinois.edu/software/klampt/latest/pyklampt_docs/\n",
    "\n",
    "import time\n",
    "from klampt import *\n",
    "from klampt import vis\n",
    "from klampt import WorldModel\n",
    "from klampt.math import vectorops,so3,se3\n",
    "from klampt.model.trajectory import Trajectory\n",
    "from klampt.io import numpy_convert\n",
    "import numpy as np\n",
    "import math\n",
    "import random\n",
    "import sys\n",
    "import scipy\n",
    "sys.path.append('../common')\n",
    "import gripper\n",
    "import drone_gripper\n",
    "vis.init('IPython')"
   ]
  },
  {
   "cell_type": "code",
   "execution_count": 4,
   "metadata": {},
   "outputs": [
    {
     "name": "stdout",
     "output_type": "stream",
     "text": [
      "1\n",
      "[0.0, 0.0, 0.0, 0.0, 0.0, 0.0, 0.0, 0.0, 0.0, 0.0, 0.0]\n",
      "[0.0, 0.0, 2.0, 0.0, 0.0, 0.0, 0.0, 0.0, 0.0, 0.0, 0.0]\n"
     ]
    },
    {
     "data": {
      "application/vnd.jupyter.widget-view+json": {
       "model_id": "2787acd25f934b6c943b820e151108fa",
       "version_major": 2,
       "version_minor": 0
      },
      "text/plain": [
       "KlamptWidgetAdaptor(scene={'object': {'matrix': [1, 0, 0, 0, 0, 0, -1, 0, 0, 1, 0, 0, 0, 0, 0, 1], 'type': 'Sc…"
      ]
     },
     "metadata": {},
     "output_type": "display_data"
    }
   ],
   "source": [
    "from stable_faces import stable_faces,debug_stable_faces\n",
    "vis.init('IPython')\n",
    "ycb_stable_faces = dict()\n",
    "\n",
    "def sample_object_pose_table(obj,stable_fs,bmin,bmax):\n",
    "    \"\"\"Samples a transform of the object so that it lies on in the given\n",
    "    bounding box bmin,bmax.\n",
    "\n",
    "    Args:\n",
    "        obj (RigidObjectModel)\n",
    "        stable_fs (list of lists): giving the stable faces of the object,\n",
    "            as in MP2.\n",
    "        bmin,bmax (3-vectors): the bounding box of the area in which the\n",
    "            objects should lie.\n",
    "    \"\"\"\n",
    "    table_height = bmin[2] + 0.001\n",
    "    face = random.choice(stable_fs)\n",
    "    normal = np.cross(face[1] - face[0],face[2]-face[0])\n",
    "    normal = normal / np.linalg.norm(normal)\n",
    "    centroid = np.sum(face,axis=0)/len(face)\n",
    "    x = random.uniform(bmin[0],bmax[0])\n",
    "    y = random.uniform(bmin[1],bmax[1])\n",
    "    z = table_height + np.dot(centroid,normal)\n",
    "    Rnormal = so3.canonical((-normal).tolist())\n",
    "    Rx = so3.rotation((1,0,0),random.uniform(0,math.pi*2))\n",
    "    Rxz = so3.rotation((0,1,0),-math.pi*0.5)\n",
    "    R = so3.mul(Rxz,so3.mul(Rx,so3.inv(Rnormal)))\n",
    "    #R*com + t = [x,y,_]\n",
    "    t = vectorops.sub([x,y,z],so3.apply(R,obj.getMass().getCom()))\n",
    "    t[2] = z\n",
    "    obj.setTransform(R,t)\n",
    "\n",
    "def arrange_objects(world,objs,bmin,bmax,interior=False):\n",
    "    global ycb_stable_faces\n",
    "    for o,obj in enumerate(objs):\n",
    "        if obj not in ycb_stable_faces:\n",
    "            world.rigidObject(o).setTransform(*se3.identity())\n",
    "            ycb_stable_faces[obj] = stable_faces(world.rigidObject(o),stability_tol=0.01,merge_tol=0.05)\n",
    "            if len(ycb_stable_faces[obj]) == 0:\n",
    "                print(\"Object\",obj,\"has no stable faces with robustness 0.01, trying 0.0\")\n",
    "                ycb_stable_faces[obj] = stable_faces(world.rigidObject(o),stability_tol=0.0,merge_tol=0.05)\n",
    "                #debug_stable_faces(world.rigidObject(o),ycb_stable_faces[obj])\n",
    "    i = 0\n",
    "    while i < world.numRigidObjects():\n",
    "        faces = ycb_stable_faces[objs[i]]\n",
    "        samples = 0\n",
    "        feasible = False\n",
    "        while not feasible and samples < 100:\n",
    "            sample_object_pose_table(world.rigidObject(i),faces,bmin,bmax)\n",
    "            \n",
    "            samples += 1\n",
    "            feasible = True\n",
    "            for j in range(i):\n",
    "                if world.rigidObject(i).geometry().collides(world.rigidObject(j).geometry()):\n",
    "                    feasible = False\n",
    "                    break\n",
    "            if feasible:\n",
    "                for j in range(world.numTerrains()):\n",
    "                    if world.rigidObject(i).geometry().collides(world.terrain(j).geometry()):\n",
    "                        feasible = False\n",
    "                        break\n",
    "        if not feasible:\n",
    "           world.remove(world.rigidObject(i))\n",
    "           print(\"Couldn't find feasible placement for\",i,\"th object\")\n",
    "        else:\n",
    "            i += 1\n",
    "\n",
    "def gen_objs(world, objs):\n",
    "    obj_ids = []\n",
    "    for i,obj_key in enumerate(objs.keys()):\n",
    "        obj = world.makeRigidObject(obj_key)\n",
    "        obj.geometry().loadFile(objs[obj_key])\n",
    "        obj.geometry().scale(0.2)\n",
    "        #print(obj)\n",
    "\n",
    "        m = obj.getMass()\n",
    "        m.estimate(obj.geometry(),mass=0.454,surfaceFraction=0.2)\n",
    "        obj.setMass(m)\n",
    "\n",
    "        obj.appearance().setColor(np.random.random(),np.random.random(),np.random.random(),1)\n",
    "        obj_ids.append(i)\n",
    "    bmin = 0\n",
    "    bmax = 0.5\n",
    "    # arrange_objects(world, obj_ids, bmin, bmax)\n",
    "\n",
    "\n",
    "    \n",
    "# load the world and robot models\n",
    "fn = \"../drone-data/world.xml\"\n",
    "world = WorldModel()\n",
    "res = world.readFile(fn)\n",
    "\n",
    "if not res:\n",
    "    print(\"Unable to read file\",fn)\n",
    "    exit(0)\n",
    "\n",
    "drone = world.robot(0)\n",
    "print(world.numRobots())\n",
    "objs = {\"object1\": \"../data/objects/cube.off\"}\n",
    "gen_objs(world, objs)\n",
    "\n",
    "print(drone.getConfig())\n",
    "drone.setConfig([0.0, 0.0, 2.0, 0.0, 0.0, 0.0, 0, 0, 0, 0, 0])\n",
    "print(drone.getConfig())\n",
    "\n",
    "obj_tform = world.rigidObject(0).getTransform()\n",
    "\n",
    "# print(world.rigidObject(0).getTransform()[0])\n",
    "# print(world.objs[0].getConfig())\n",
    "\n",
    "world.rigidObject(0).setTransform(obj_tform[0], [0, 0, 0])\n",
    "\n",
    "\n",
    "# visualization\n",
    "vis.createWindow()\n",
    "closeup_viewport = {'up': {'z': 0, 'y': 1, 'x': 0}, 'target': {'z': 0, 'y': 0, 'x': 0}, 'near': 0.1, 'position': {'z': 1.0, 'y': 0.5, 'x': 0.0}, 'far': 1000}\n",
    "# vis.setViewport(closeup_viewport)\n",
    "vis.add(\"world\",world)\n",
    "vis.show()\n",
    "# vis.loop()"
   ]
  },
  {
   "cell_type": "code",
   "execution_count": null,
   "metadata": {},
   "outputs": [],
   "source": []
  },
  {
   "cell_type": "code",
   "execution_count": null,
   "metadata": {},
   "outputs": [],
   "source": []
  },
  {
   "cell_type": "code",
   "execution_count": null,
   "metadata": {},
   "outputs": [],
   "source": []
  }
 ],
 "metadata": {
  "kernelspec": {
   "display_name": "Python 3",
   "language": "python",
   "name": "python3"
  },
  "language_info": {
   "codemirror_mode": {
    "name": "ipython",
    "version": 3
   },
   "file_extension": ".py",
   "mimetype": "text/x-python",
   "name": "python",
   "nbconvert_exporter": "python",
   "pygments_lexer": "ipython3",
   "version": "3.9.1"
  }
 },
 "nbformat": 4,
 "nbformat_minor": 2
}
