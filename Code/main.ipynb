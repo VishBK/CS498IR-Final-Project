{
 "cells": [
  {
   "cell_type": "code",
   "execution_count": 1,
   "metadata": {},
   "outputs": [
    {
     "data": {
      "text/plain": [
       "'IPython'"
      ]
     },
     "execution_count": 1,
     "metadata": {},
     "output_type": "execute_result"
    }
   ],
   "source": [
    "#Imports\n",
    "\n",
    "# use pip3 (klampt, PyOpenGL, numpy)\n",
    "# http://motion.cs.illinois.edu/software/klampt/latest/pyklampt_docs/\n",
    "\n",
    "import time\n",
    "from klampt import *\n",
    "from klampt import vis\n",
    "from klampt import WorldModel\n",
    "from klampt.math import vectorops,so3,se3\n",
    "from klampt.model.trajectory import Trajectory\n",
    "from klampt.io import numpy_convert\n",
    "import numpy as np\n",
    "import math\n",
    "import random\n",
    "import sys\n",
    "import scipy\n",
    "sys.path.append('../common')\n",
    "import gripper\n",
    "import drone_gripper\n",
    "vis.init('IPython')"
   ]
  },
  {
   "cell_type": "code",
   "execution_count": 2,
   "metadata": {},
   "outputs": [
    {
     "data": {
      "application/vnd.jupyter.widget-view+json": {
       "model_id": "6504f16a133949f4b009c5044f55e80e",
       "version_major": 2,
       "version_minor": 0
      },
      "text/plain": [
       "KlamptWidgetAdaptor(rpc={'type': 'multiple', 'calls': [{'up': {'z': 0, 'y': 1, 'x': 0}, 'target': {'z': 0, 'y'…"
      ]
     },
     "metadata": {},
     "output_type": "display_data"
    }
   ],
   "source": [
    "fn = \"../drone-data/world.xml\"\n",
    "world = WorldModel()\n",
    "res = world.readFile(fn)\n",
    "\n",
    "#print(world.numRobots())\n",
    "\n",
    "if not res:\n",
    "    print(\"Unable to read file\",fn)\n",
    "    exit(0)\n",
    "\n",
    "obj = world.robot(0)\n",
    "#print(obj)\n",
    "\n",
    "#m = obj.getMass()\n",
    "#m.estimate(obj.geometry(),mass=0.454,surfaceFraction=0.2)\n",
    "#obj.setMass(m)\n",
    "\n",
    "#make the object transparent yellow\n",
    "#obj.appearance().setColor(0.8,0.8,0.2,0.5)\n",
    "#draw center of mass\n",
    "vis.createWindow()\n",
    "closeup_viewport = {'up': {'z': 0, 'y': 1, 'x': 0}, 'target': {'z': 0, 'y': 0, 'x': 0}, 'near': 0.1, 'position': {'z': 1.0, 'y': 0.5, 'x': 0.0}, 'far': 1000}\n",
    "vis.setViewport(closeup_viewport)\n",
    "vis.add(\"world\",world)\n",
    "#vis.add(\"COM\",m.getCom(),color=(1,0,0,1),size=0.01)\n",
    "vis.show()"
   ]
  },
  {
   "cell_type": "code",
   "execution_count": null,
   "metadata": {},
   "outputs": [],
   "source": []
  }
 ],
 "metadata": {
  "kernelspec": {
   "display_name": "Python 3",
   "language": "python",
   "name": "python3"
  },
  "language_info": {
   "codemirror_mode": {
    "name": "ipython",
    "version": 3
   },
   "file_extension": ".py",
   "mimetype": "text/x-python",
   "name": "python",
   "nbconvert_exporter": "python",
   "pygments_lexer": "ipython3",
   "version": "3.7.9"
  }
 },
 "nbformat": 4,
 "nbformat_minor": 2
}
